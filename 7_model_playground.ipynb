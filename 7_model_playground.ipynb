{
 "cells": [
  {
   "cell_type": "markdown",
   "metadata": {},
   "source": [
    "# Experiment with different models here"
   ]
  },
  {
   "cell_type": "markdown",
   "metadata": {},
   "source": [
    "---\n",
    "\n",
    "## Enter Source Code for Prediction"
   ]
  },
  {
   "cell_type": "code",
   "execution_count": 1,
   "metadata": {},
   "outputs": [
    {
     "name": "stderr",
     "output_type": "stream",
     "text": [
      "All model checkpoint layers were used when initializing TFBertForMaskedLM.\n",
      "\n",
      "All the layers of TFBertForMaskedLM were initialized from the model checkpoint at JasperGrant/ASTBERT-cb-5k-methods.\n",
      "If your task is similar to the task the model of the checkpoint was trained on, you can already use TFBertForMaskedLM for predictions without further training.\n"
     ]
    },
    {
     "ename": "FileNotFoundError",
     "evalue": "[WinError 2] The system cannot find the file specified: 'C:\\\\Users\\\\jaspe\\\\AppData\\\\Local\\\\Temp\\\\comex\\\\tree-sitter-java\\\\src\\\\parser.c'",
     "output_type": "error",
     "traceback": [
      "\u001b[1;31m---------------------------------------------------------------------------\u001b[0m",
      "\u001b[1;31mFileNotFoundError\u001b[0m                         Traceback (most recent call last)",
      "Cell \u001b[1;32mIn[1], line 24\u001b[0m\n\u001b[0;32m     20\u001b[0m model \u001b[38;5;241m=\u001b[39m TFBertForMaskedLM\u001b[38;5;241m.\u001b[39mfrom_pretrained(model_name)\n\u001b[0;32m     22\u001b[0m \u001b[38;5;66;03m# Convert source code to AST representation\u001b[39;00m\n\u001b[0;32m     23\u001b[0m \u001b[38;5;66;03m# Single/Multipath mode is determined by the model name\u001b[39;00m\n\u001b[1;32m---> 24\u001b[0m AST_rep \u001b[38;5;241m=\u001b[39m \u001b[43msource_code_to_AST_rep_pipeline\u001b[49m\u001b[43m(\u001b[49m\n\u001b[0;32m     25\u001b[0m \u001b[43m    \u001b[49m\u001b[43msource_code\u001b[49m\u001b[43m,\u001b[49m\u001b[43m \u001b[49m\u001b[43mmode\u001b[49m\u001b[38;5;241;43m=\u001b[39;49m\u001b[38;5;124;43m\"\u001b[39;49m\u001b[38;5;124;43monePath\u001b[39;49m\u001b[38;5;124;43m\"\u001b[39;49m\u001b[43m \u001b[49m\u001b[38;5;28;43;01mif\u001b[39;49;00m\u001b[43m \u001b[49m\u001b[38;5;124;43m\"\u001b[39;49m\u001b[38;5;124;43mmultipath\u001b[39;49m\u001b[38;5;124;43m\"\u001b[39;49m\u001b[43m \u001b[49m\u001b[38;5;129;43;01mnot\u001b[39;49;00m\u001b[43m \u001b[49m\u001b[38;5;129;43;01min\u001b[39;49;00m\u001b[43m \u001b[49m\u001b[43mmodel_name\u001b[49m\u001b[43m \u001b[49m\u001b[38;5;28;43;01melse\u001b[39;49;00m\u001b[43m \u001b[49m\u001b[38;5;124;43m\"\u001b[39;49m\u001b[38;5;124;43mpaths\u001b[39;49m\u001b[38;5;124;43m\"\u001b[39;49m\n\u001b[0;32m     26\u001b[0m \u001b[43m)\u001b[49m\n\u001b[0;32m     28\u001b[0m \u001b[38;5;66;03m# Provide function name predictions up to a certain number of tokens\u001b[39;00m\n\u001b[0;32m     29\u001b[0m \u001b[38;5;28;01mfor\u001b[39;00m i \u001b[38;5;129;01min\u001b[39;00m \u001b[38;5;28mrange\u001b[39m(\u001b[38;5;241m1\u001b[39m, max_tokens \u001b[38;5;241m+\u001b[39m \u001b[38;5;241m1\u001b[39m):\n",
      "File \u001b[1;32mc:\\Users\\jaspe\\Documents\\Group02\\pipeline.py:15\u001b[0m, in \u001b[0;36msource_code_to_AST_rep_pipeline\u001b[1;34m(method, mode)\u001b[0m\n\u001b[0;32m     13\u001b[0m \u001b[38;5;28;01mif\u001b[39;00m os\u001b[38;5;241m.\u001b[39mpath\u001b[38;5;241m.\u001b[39mexists(\u001b[38;5;124m\"\u001b[39m\u001b[38;5;124mdata/tempgraphs/tmp_AST_output.json\u001b[39m\u001b[38;5;124m\"\u001b[39m):\n\u001b[0;32m     14\u001b[0m     os\u001b[38;5;241m.\u001b[39mremove(\u001b[38;5;124m\"\u001b[39m\u001b[38;5;124mdata/tempgraphs/tmp_AST_output.json\u001b[39m\u001b[38;5;124m\"\u001b[39m)\n\u001b[1;32m---> 15\u001b[0m \u001b[43mgenerate_graph_for_method\u001b[49m\u001b[43m(\u001b[49m\u001b[38;5;124;43m\"\u001b[39;49m\u001b[38;5;124;43mtmp\u001b[39;49m\u001b[38;5;124;43m\"\u001b[39;49m\u001b[43m,\u001b[49m\u001b[43m \u001b[49m\u001b[43mmethod\u001b[49m\u001b[43m,\u001b[49m\u001b[43m \u001b[49m\u001b[38;5;124;43m\"\u001b[39;49m\u001b[38;5;124;43mdata/tempgraphs\u001b[39;49m\u001b[38;5;124;43m\"\u001b[39;49m\u001b[43m)\u001b[49m\n\u001b[0;32m     16\u001b[0m graph2vec(\u001b[38;5;124m\"\u001b[39m\u001b[38;5;124mdata/tempgraphs\u001b[39m\u001b[38;5;124m\"\u001b[39m, mode\u001b[38;5;241m=\u001b[39mmode, output_file_path\u001b[38;5;241m=\u001b[39m\u001b[38;5;124m\"\u001b[39m\u001b[38;5;124mdata/paths.json\u001b[39m\u001b[38;5;124m\"\u001b[39m)\n\u001b[0;32m     18\u001b[0m methods \u001b[38;5;241m=\u001b[39m json\u001b[38;5;241m.\u001b[39mloads(\u001b[38;5;28mopen\u001b[39m(\u001b[38;5;124m\"\u001b[39m\u001b[38;5;124mdata/paths.json\u001b[39m\u001b[38;5;124m\"\u001b[39m)\u001b[38;5;241m.\u001b[39mread())\n",
      "File \u001b[1;32mc:\\Users\\jaspe\\Documents\\Group02\\graph_generation.py:12\u001b[0m, in \u001b[0;36mgenerate_graph_for_method\u001b[1;34m(method_name, method_body, folder_name)\u001b[0m\n\u001b[0;32m     10\u001b[0m \u001b[38;5;28;01mif\u001b[39;00m os\u001b[38;5;241m.\u001b[39mpath\u001b[38;5;241m.\u001b[39mexists(\u001b[38;5;124mf\u001b[39m\u001b[38;5;124m\"\u001b[39m\u001b[38;5;132;01m{\u001b[39;00mfolder_name\u001b[38;5;132;01m}\u001b[39;00m\u001b[38;5;124m/\u001b[39m\u001b[38;5;132;01m{\u001b[39;00mmethod_name\u001b[38;5;132;01m}\u001b[39;00m\u001b[38;5;124m_AST_output.json\u001b[39m\u001b[38;5;124m\"\u001b[39m):\n\u001b[0;32m     11\u001b[0m     \u001b[38;5;28;01mreturn\u001b[39;00m\n\u001b[1;32m---> 12\u001b[0m \u001b[43mASTDriver\u001b[49m\u001b[43m(\u001b[49m\n\u001b[0;32m     13\u001b[0m \u001b[43m    \u001b[49m\u001b[43msrc_language\u001b[49m\u001b[38;5;241;43m=\u001b[39;49m\u001b[38;5;124;43m\"\u001b[39;49m\u001b[38;5;124;43mjava\u001b[39;49m\u001b[38;5;124;43m\"\u001b[39;49m\u001b[43m,\u001b[49m\n\u001b[0;32m     14\u001b[0m \u001b[43m    \u001b[49m\u001b[43msrc_code\u001b[49m\u001b[38;5;241;43m=\u001b[39;49m\u001b[43mmethod_body\u001b[49m\u001b[43m,\u001b[49m\n\u001b[0;32m     15\u001b[0m \u001b[43m    \u001b[49m\u001b[43moutput_file\u001b[49m\u001b[38;5;241;43m=\u001b[39;49m\u001b[38;5;124;43mf\u001b[39;49m\u001b[38;5;124;43m\"\u001b[39;49m\u001b[38;5;132;43;01m{\u001b[39;49;00m\u001b[43mfolder_name\u001b[49m\u001b[38;5;132;43;01m}\u001b[39;49;00m\u001b[38;5;124;43m/\u001b[39;49m\u001b[38;5;132;43;01m{\u001b[39;49;00m\u001b[43mmethod_name\u001b[49m\u001b[38;5;132;43;01m}\u001b[39;49;00m\u001b[38;5;124;43m_AST_output.json\u001b[39;49m\u001b[38;5;124;43m\"\u001b[39;49m\u001b[43m,\u001b[49m\n\u001b[0;32m     16\u001b[0m \u001b[43m\u001b[49m\u001b[43m)\u001b[49m\n",
      "File \u001b[1;32mc:\\Users\\jaspe\\anaconda3\\envs\\myenv\\lib\\site-packages\\comex\\codeviews\\AST\\AST_driver.py:17\u001b[0m, in \u001b[0;36mASTDriver.__init__\u001b[1;34m(self, src_language, src_code, output_file, properties)\u001b[0m\n\u001b[0;32m     15\u001b[0m \u001b[38;5;28mself\u001b[39m\u001b[38;5;241m.\u001b[39msrc_code \u001b[38;5;241m=\u001b[39m src_code\n\u001b[0;32m     16\u001b[0m \u001b[38;5;28mself\u001b[39m\u001b[38;5;241m.\u001b[39mproperties \u001b[38;5;241m=\u001b[39m properties\n\u001b[1;32m---> 17\u001b[0m \u001b[38;5;28mself\u001b[39m\u001b[38;5;241m.\u001b[39mparser \u001b[38;5;241m=\u001b[39m \u001b[43mParserDriver\u001b[49m\u001b[43m(\u001b[49m\u001b[43msrc_language\u001b[49m\u001b[43m,\u001b[49m\u001b[43m \u001b[49m\u001b[43msrc_code\u001b[49m\u001b[43m)\u001b[49m\u001b[38;5;241m.\u001b[39mparser\n\u001b[0;32m     18\u001b[0m \u001b[38;5;28mself\u001b[39m\u001b[38;5;241m.\u001b[39mroot_node \u001b[38;5;241m=\u001b[39m \u001b[38;5;28mself\u001b[39m\u001b[38;5;241m.\u001b[39mparser\u001b[38;5;241m.\u001b[39mroot_node\n\u001b[0;32m     19\u001b[0m \u001b[38;5;28mself\u001b[39m\u001b[38;5;241m.\u001b[39mAST \u001b[38;5;241m=\u001b[39m ASTGraph(\n\u001b[0;32m     20\u001b[0m     \u001b[38;5;28mself\u001b[39m\u001b[38;5;241m.\u001b[39msrc_language,\n\u001b[0;32m     21\u001b[0m     \u001b[38;5;28mself\u001b[39m\u001b[38;5;241m.\u001b[39msrc_code,\n\u001b[1;32m   (...)\u001b[0m\n\u001b[0;32m     24\u001b[0m     \u001b[38;5;28mself\u001b[39m\u001b[38;5;241m.\u001b[39mparser,\n\u001b[0;32m     25\u001b[0m )\n",
      "File \u001b[1;32mc:\\Users\\jaspe\\anaconda3\\envs\\myenv\\lib\\site-packages\\comex\\tree_parser\\parser_driver.py:19\u001b[0m, in \u001b[0;36mParserDriver.__init__\u001b[1;34m(self, src_language, src_code)\u001b[0m\n\u001b[0;32m     11\u001b[0m \u001b[38;5;28mself\u001b[39m\u001b[38;5;241m.\u001b[39msrc_code \u001b[38;5;241m=\u001b[39m \u001b[38;5;28mself\u001b[39m\u001b[38;5;241m.\u001b[39mpre_process_src_code(src_language, src_code)\n\u001b[0;32m     13\u001b[0m \u001b[38;5;28mself\u001b[39m\u001b[38;5;241m.\u001b[39mparser_map \u001b[38;5;241m=\u001b[39m {\n\u001b[0;32m     14\u001b[0m     \u001b[38;5;124m\"\u001b[39m\u001b[38;5;124mjava\u001b[39m\u001b[38;5;124m\"\u001b[39m: JavaParser,\n\u001b[0;32m     15\u001b[0m     \u001b[38;5;124m\"\u001b[39m\u001b[38;5;124mcs\u001b[39m\u001b[38;5;124m\"\u001b[39m: CSParser,\n\u001b[0;32m     16\u001b[0m     \u001b[38;5;66;03m# 'python': PythonParser\u001b[39;00m\n\u001b[0;32m     17\u001b[0m     \u001b[38;5;66;03m# Add more languages here\u001b[39;00m\n\u001b[0;32m     18\u001b[0m }\n\u001b[1;32m---> 19\u001b[0m \u001b[38;5;28mself\u001b[39m\u001b[38;5;241m.\u001b[39mparser \u001b[38;5;241m=\u001b[39m \u001b[38;5;28;43mself\u001b[39;49m\u001b[38;5;241;43m.\u001b[39;49m\u001b[43mparser_map\u001b[49m\u001b[43m[\u001b[49m\u001b[38;5;28;43mself\u001b[39;49m\u001b[38;5;241;43m.\u001b[39;49m\u001b[43msrc_language\u001b[49m\u001b[43m]\u001b[49m\u001b[43m(\u001b[49m\u001b[38;5;28;43mself\u001b[39;49m\u001b[38;5;241;43m.\u001b[39;49m\u001b[43msrc_language\u001b[49m\u001b[43m,\u001b[49m\u001b[43m \u001b[49m\u001b[38;5;28;43mself\u001b[39;49m\u001b[38;5;241;43m.\u001b[39;49m\u001b[43msrc_code\u001b[49m\u001b[43m)\u001b[49m\n\u001b[0;32m     20\u001b[0m \u001b[38;5;28mself\u001b[39m\u001b[38;5;241m.\u001b[39mroot_node, \u001b[38;5;28mself\u001b[39m\u001b[38;5;241m.\u001b[39mtree \u001b[38;5;241m=\u001b[39m \u001b[38;5;28mself\u001b[39m\u001b[38;5;241m.\u001b[39mparser\u001b[38;5;241m.\u001b[39mparse()\n\u001b[0;32m     21\u001b[0m (\n\u001b[0;32m     22\u001b[0m     \u001b[38;5;28mself\u001b[39m\u001b[38;5;241m.\u001b[39mall_tokens,\n\u001b[0;32m     23\u001b[0m     \u001b[38;5;28mself\u001b[39m\u001b[38;5;241m.\u001b[39mlabel,\n\u001b[1;32m   (...)\u001b[0m\n\u001b[0;32m     29\u001b[0m     \u001b[38;5;28mself\u001b[39m\u001b[38;5;241m.\u001b[39msymbol_table,\n\u001b[0;32m     30\u001b[0m ) \u001b[38;5;241m=\u001b[39m \u001b[38;5;28mself\u001b[39m\u001b[38;5;241m.\u001b[39mcreate_all_tokens()\n",
      "File \u001b[1;32mc:\\Users\\jaspe\\anaconda3\\envs\\myenv\\lib\\site-packages\\comex\\tree_parser\\java_parser.py:5\u001b[0m, in \u001b[0;36mJavaParser.__init__\u001b[1;34m(self, src_language, src_code)\u001b[0m\n\u001b[0;32m      4\u001b[0m \u001b[38;5;28;01mdef\u001b[39;00m \u001b[38;5;21m__init__\u001b[39m(\u001b[38;5;28mself\u001b[39m, src_language, src_code):\n\u001b[1;32m----> 5\u001b[0m     \u001b[38;5;28;43msuper\u001b[39;49m\u001b[43m(\u001b[49m\u001b[43m)\u001b[49m\u001b[38;5;241;43m.\u001b[39;49m\u001b[38;5;21;43m__init__\u001b[39;49m\u001b[43m(\u001b[49m\u001b[43msrc_language\u001b[49m\u001b[43m,\u001b[49m\u001b[43m \u001b[49m\u001b[43msrc_code\u001b[49m\u001b[43m)\u001b[49m\n",
      "File \u001b[1;32mc:\\Users\\jaspe\\anaconda3\\envs\\myenv\\lib\\site-packages\\comex\\tree_parser\\custom_parser.py:28\u001b[0m, in \u001b[0;36mCustomParser.__init__\u001b[1;34m(self, src_language, src_code)\u001b[0m\n\u001b[0;32m     26\u001b[0m \u001b[38;5;28mself\u001b[39m\u001b[38;5;241m.\u001b[39msrc_code \u001b[38;5;241m=\u001b[39m src_code\n\u001b[0;32m     27\u001b[0m \u001b[38;5;28mself\u001b[39m\u001b[38;5;241m.\u001b[39mindex \u001b[38;5;241m=\u001b[39m {}\n\u001b[1;32m---> 28\u001b[0m \u001b[38;5;28mself\u001b[39m\u001b[38;5;241m.\u001b[39mlanguage_map \u001b[38;5;241m=\u001b[39m \u001b[43mget_language_map\u001b[49m\u001b[43m(\u001b[49m\u001b[43m)\u001b[49m\n\u001b[0;32m     29\u001b[0m \u001b[38;5;28mself\u001b[39m\u001b[38;5;241m.\u001b[39mroot_node, \u001b[38;5;28mself\u001b[39m\u001b[38;5;241m.\u001b[39mtree \u001b[38;5;241m=\u001b[39m \u001b[38;5;28mself\u001b[39m\u001b[38;5;241m.\u001b[39mparse()\n\u001b[0;32m     30\u001b[0m \u001b[38;5;28mself\u001b[39m\u001b[38;5;241m.\u001b[39mall_tokens \u001b[38;5;241m=\u001b[39m []  \u001b[38;5;66;03m# list of all tokens in the source code\u001b[39;00m\n",
      "File \u001b[1;32mc:\\Users\\jaspe\\anaconda3\\envs\\myenv\\lib\\site-packages\\comex\\__init__.py:60\u001b[0m, in \u001b[0;36mget_language_map\u001b[1;34m()\u001b[0m\n\u001b[0;32m     37\u001b[0m     subprocess\u001b[38;5;241m.\u001b[39mcheck_call([\u001b[38;5;124m\"\u001b[39m\u001b[38;5;124mgit\u001b[39m\u001b[38;5;124m\"\u001b[39m, \u001b[38;5;124m\"\u001b[39m\u001b[38;5;124mcheckout\u001b[39m\u001b[38;5;124m\"\u001b[39m, commit], cwd\u001b[38;5;241m=\u001b[39mvendor_language, stdout\u001b[38;5;241m=\u001b[39msubprocess\u001b[38;5;241m.\u001b[39mDEVNULL,\n\u001b[0;32m     38\u001b[0m                           stderr\u001b[38;5;241m=\u001b[39msubprocess\u001b[38;5;241m.\u001b[39mSTDOUT)\n\u001b[0;32m     40\u001b[0m \u001b[38;5;66;03m# build_id = \"\"\u001b[39;00m\n\u001b[0;32m     41\u001b[0m \u001b[38;5;66;03m# for vendor_language in vendor_languages:\u001b[39;00m\n\u001b[0;32m     42\u001b[0m \u001b[38;5;66;03m#     commit_hash = get_commit_hash(vendor_language)\u001b[39;00m\n\u001b[1;32m   (...)\u001b[0m\n\u001b[0;32m     57\u001b[0m \u001b[38;5;66;03m#     if os.path.exists(shared_languages):\u001b[39;00m\n\u001b[0;32m     58\u001b[0m \u001b[38;5;66;03m#         os.remove(shared_languages)\u001b[39;00m\n\u001b[1;32m---> 60\u001b[0m \u001b[43mLanguage\u001b[49m\u001b[38;5;241;43m.\u001b[39;49m\u001b[43mbuild_library\u001b[49m\u001b[43m(\u001b[49m\n\u001b[0;32m     61\u001b[0m \u001b[43m    \u001b[49m\u001b[38;5;66;43;03m# Store the library in the `build` directory\u001b[39;49;00m\n\u001b[0;32m     62\u001b[0m \u001b[43m    \u001b[49m\u001b[43mshared_languages\u001b[49m\u001b[43m,\u001b[49m\n\u001b[0;32m     63\u001b[0m \u001b[43m    \u001b[49m\u001b[43mvendor_languages\u001b[49m\u001b[43m,\u001b[49m\n\u001b[0;32m     64\u001b[0m \u001b[43m\u001b[49m\u001b[43m)\u001b[49m\n\u001b[0;32m     65\u001b[0m \u001b[38;5;66;03m# PYTHON_LANGUAGE = Language(\"build/my-languages.so\", \"python\")\u001b[39;00m\n\u001b[0;32m     66\u001b[0m JAVA_LANGUAGE \u001b[38;5;241m=\u001b[39m Language(shared_languages, \u001b[38;5;124m\"\u001b[39m\u001b[38;5;124mjava\u001b[39m\u001b[38;5;124m\"\u001b[39m)\n",
      "File \u001b[1;32mc:\\Users\\jaspe\\anaconda3\\envs\\myenv\\lib\\site-packages\\tree_sitter\\__init__.py:41\u001b[0m, in \u001b[0;36mLanguage.build_library\u001b[1;34m(output_path, repo_paths)\u001b[0m\n\u001b[0;32m     39\u001b[0m     \u001b[38;5;28;01melif\u001b[39;00m path\u001b[38;5;241m.\u001b[39mexists(path\u001b[38;5;241m.\u001b[39mjoin(src_path, \u001b[38;5;124m\"\u001b[39m\u001b[38;5;124mscanner.c\u001b[39m\u001b[38;5;124m\"\u001b[39m)):\n\u001b[0;32m     40\u001b[0m         source_paths\u001b[38;5;241m.\u001b[39mappend(path\u001b[38;5;241m.\u001b[39mjoin(src_path, \u001b[38;5;124m\"\u001b[39m\u001b[38;5;124mscanner.c\u001b[39m\u001b[38;5;124m\"\u001b[39m))\n\u001b[1;32m---> 41\u001b[0m source_mtimes \u001b[38;5;241m=\u001b[39m [path\u001b[38;5;241m.\u001b[39mgetmtime(\u001b[38;5;18m__file__\u001b[39m)] \u001b[38;5;241m+\u001b[39m [\n\u001b[0;32m     42\u001b[0m     path\u001b[38;5;241m.\u001b[39mgetmtime(path_) \u001b[38;5;28;01mfor\u001b[39;00m path_ \u001b[38;5;129;01min\u001b[39;00m source_paths\n\u001b[0;32m     43\u001b[0m ]\n\u001b[0;32m     45\u001b[0m compiler \u001b[38;5;241m=\u001b[39m new_compiler()\n\u001b[0;32m     46\u001b[0m \u001b[38;5;28;01mif\u001b[39;00m \u001b[38;5;28misinstance\u001b[39m(compiler, UnixCCompiler):\n",
      "File \u001b[1;32mc:\\Users\\jaspe\\anaconda3\\envs\\myenv\\lib\\site-packages\\tree_sitter\\__init__.py:42\u001b[0m, in \u001b[0;36m<listcomp>\u001b[1;34m(.0)\u001b[0m\n\u001b[0;32m     39\u001b[0m     \u001b[38;5;28;01melif\u001b[39;00m path\u001b[38;5;241m.\u001b[39mexists(path\u001b[38;5;241m.\u001b[39mjoin(src_path, \u001b[38;5;124m\"\u001b[39m\u001b[38;5;124mscanner.c\u001b[39m\u001b[38;5;124m\"\u001b[39m)):\n\u001b[0;32m     40\u001b[0m         source_paths\u001b[38;5;241m.\u001b[39mappend(path\u001b[38;5;241m.\u001b[39mjoin(src_path, \u001b[38;5;124m\"\u001b[39m\u001b[38;5;124mscanner.c\u001b[39m\u001b[38;5;124m\"\u001b[39m))\n\u001b[0;32m     41\u001b[0m source_mtimes \u001b[38;5;241m=\u001b[39m [path\u001b[38;5;241m.\u001b[39mgetmtime(\u001b[38;5;18m__file__\u001b[39m)] \u001b[38;5;241m+\u001b[39m [\n\u001b[1;32m---> 42\u001b[0m     \u001b[43mpath\u001b[49m\u001b[38;5;241;43m.\u001b[39;49m\u001b[43mgetmtime\u001b[49m\u001b[43m(\u001b[49m\u001b[43mpath_\u001b[49m\u001b[43m)\u001b[49m \u001b[38;5;28;01mfor\u001b[39;00m path_ \u001b[38;5;129;01min\u001b[39;00m source_paths\n\u001b[0;32m     43\u001b[0m ]\n\u001b[0;32m     45\u001b[0m compiler \u001b[38;5;241m=\u001b[39m new_compiler()\n\u001b[0;32m     46\u001b[0m \u001b[38;5;28;01mif\u001b[39;00m \u001b[38;5;28misinstance\u001b[39m(compiler, UnixCCompiler):\n",
      "File \u001b[1;32mc:\\Users\\jaspe\\anaconda3\\envs\\myenv\\lib\\genericpath.py:55\u001b[0m, in \u001b[0;36mgetmtime\u001b[1;34m(filename)\u001b[0m\n\u001b[0;32m     53\u001b[0m \u001b[38;5;28;01mdef\u001b[39;00m \u001b[38;5;21mgetmtime\u001b[39m(filename):\n\u001b[0;32m     54\u001b[0m \u001b[38;5;250m    \u001b[39m\u001b[38;5;124;03m\"\"\"Return the last modification time of a file, reported by os.stat().\"\"\"\u001b[39;00m\n\u001b[1;32m---> 55\u001b[0m     \u001b[38;5;28;01mreturn\u001b[39;00m \u001b[43mos\u001b[49m\u001b[38;5;241;43m.\u001b[39;49m\u001b[43mstat\u001b[49m\u001b[43m(\u001b[49m\u001b[43mfilename\u001b[49m\u001b[43m)\u001b[49m\u001b[38;5;241m.\u001b[39mst_mtime\n",
      "\u001b[1;31mFileNotFoundError\u001b[0m: [WinError 2] The system cannot find the file specified: 'C:\\\\Users\\\\jaspe\\\\AppData\\\\Local\\\\Temp\\\\comex\\\\tree-sitter-java\\\\src\\\\parser.c'"
     ]
    }
   ],
   "source": [
    "from pipeline import source_code_to_AST_rep_pipeline, prompt_model\n",
    "from transformers import RobertaTokenizer, TFBertForMaskedLM\n",
    "\n",
    "models = [\n",
    "    \"JasperGrant/ASTBERT-cb-25k-methods\",\n",
    "    \"JasperGrant/ASTBERT-cb-5k-methods\",\n",
    "    \"JasperGrant/ASTBERT-cb-5k-methods-multipath\",\n",
    "    \"JasperGrant/ASTBERT-gb-25k-methods\",\n",
    "    \"JasperGrant/ASTBERT-gb-5k-methods\",\n",
    "    \"JasperGrant/ASTBERT-gb-5k-methods-multipath\",\n",
    "]\n",
    "\n",
    "# Change these to use a different model and experiment with different functions and numbers of tokens\n",
    "model_name = models[1]\n",
    "source_code = \"return XPath;\"\n",
    "max_tokens = 3\n",
    "\n",
    "# Load model and tokenizer\n",
    "tokenizer = RobertaTokenizer.from_pretrained(model_name)\n",
    "model = TFBertForMaskedLM.from_pretrained(model_name)\n",
    "\n",
    "# Convert source code to AST representation\n",
    "# Single/Multipath mode is determined by the model name\n",
    "AST_rep = source_code_to_AST_rep_pipeline(\n",
    "    source_code, mode=\"onePath\" if \"multipath\" not in model_name else \"paths\"\n",
    ")\n",
    "\n",
    "# Provide function name predictions up to a certain number of tokens\n",
    "for i in range(1, max_tokens + 1):\n",
    "    predicted_method_name = prompt_model(AST_rep, i, tokenizer, model)\n",
    "    print(f\"Method name prediction with {i} tokens: {predicted_method_name}\")"
   ]
  },
  {
   "cell_type": "markdown",
   "metadata": {},
   "source": [
    "---\n",
    "\n",
    "## Enter AST Representation for Prediction"
   ]
  },
  {
   "cell_type": "code",
   "execution_count": 3,
   "metadata": {},
   "outputs": [
    {
     "name": "stderr",
     "output_type": "stream",
     "text": [
      "All model checkpoint layers were used when initializing TFBertForMaskedLM.\n",
      "\n",
      "All the layers of TFBertForMaskedLM were initialized from the model checkpoint at JasperGrant/ASTBERT-cb-5k-methods.\n",
      "If your task is similar to the task the model of the checkpoint was trained on, you can already use TFBertForMaskedLM for predictions without further training.\n"
     ]
    },
    {
     "name": "stdout",
     "output_type": "stream",
     "text": [
      "Method name prediction with 1 tokens: get\n",
      "Method name prediction with 2 tokens: getM\n",
      "Method name prediction with 3 tokens: getColumnM\n",
      "Method name prediction with 4 tokens: getColumnMapper\n",
      "Method name prediction with 5 tokens: getMMMapper\n"
     ]
    }
   ],
   "source": [
    "from pipeline import source_code_to_AST_rep_pipeline, prompt_model\n",
    "from transformers import RobertaTokenizer, TFBertForMaskedLM\n",
    "\n",
    "models = [\n",
    "    \"JasperGrant/ASTBERT-cb-25k-methods\",\n",
    "    \"JasperGrant/ASTBERT-cb-5k-methods\",\n",
    "    \"JasperGrant/ASTBERT-cb-5k-methods-multipath\",\n",
    "    \"JasperGrant/ASTBERT-gb-25k-methods\",\n",
    "    \"JasperGrant/ASTBERT-gb-5k-methods\",\n",
    "    \"JasperGrant/ASTBERT-gb-5k-methods-multipath\",\n",
    "]\n",
    "\n",
    "# Change these to use a different model and experiment with different functions and numbers of tokens\n",
    "model_name = models[1]\n",
    "max_tokens = 5\n",
    "\n",
    "# Load model and tokenizer\n",
    "tokenizer = RobertaTokenizer.from_pretrained(model_name)\n",
    "model = TFBertForMaskedLM.from_pretrained(model_name)\n",
    "\n",
    "# Convert source code to AST representation\n",
    "# Single/Multipath mode is determined by the model name\n",
    "AST_rep = '\"program (return_statement (columnMapper ))'\n",
    "\n",
    "# Provide function name predictions up to a certain number of tokens\n",
    "for i in range(1, max_tokens + 1):\n",
    "    predicted_method_name = prompt_model(AST_rep, i, tokenizer, model)\n",
    "    print(f\"Method name prediction with {i} tokens: {predicted_method_name}\")"
   ]
  }
 ],
 "metadata": {
  "kernelspec": {
   "display_name": "myenv",
   "language": "python",
   "name": "python3"
  },
  "language_info": {
   "codemirror_mode": {
    "name": "ipython",
    "version": 3
   },
   "file_extension": ".py",
   "mimetype": "text/x-python",
   "name": "python",
   "nbconvert_exporter": "python",
   "pygments_lexer": "ipython3",
   "version": "3.8.18"
  }
 },
 "nbformat": 4,
 "nbformat_minor": 2
}
