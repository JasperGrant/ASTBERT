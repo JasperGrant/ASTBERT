{
      "cells": [
            {
                  "cell_type": "markdown",
                  "metadata": {},
                  "source": [
                        "# Get list of repos"
                  ]
            },
            {
                  "cell_type": "code",
                  "execution_count": 16,
                  "metadata": {
                        "ExecuteTime": {
                              "end_time": "2024-03-10T21:40:08.843109200Z",
                              "start_time": "2024-03-10T21:40:03.153433400Z"
                        }
                  },
                  "outputs": [
                        {
                              "name": "stderr",
                              "output_type": "stream",
                              "text": [
                                    "c:\\Users\\jaspe\\anaconda3\\envs\\myenv\\lib\\site-packages\\urllib3\\connectionpool.py:1103: InsecureRequestWarning: Unverified HTTPS request is being made to host 'seart-ghs.si.usi.ch'. Adding certificate verification is strongly advised. See: https://urllib3.readthedocs.io/en/latest/advanced-usage.html#tls-warnings\n",
                                    "  warnings.warn(\n"
                              ]
                        },
                        {
                              "data": {
                                    "text/plain": [
                                          "True"
                                    ]
                              },
                              "execution_count": 16,
                              "metadata": {},
                              "output_type": "execute_result"
                        }
                  ],
                  "source": [
                        "import requests\n",
                        "import pandas as pd\n",
                        "\n",
                        "\n",
                        "# Function to populate data/repos.csv with repos to clone based on criteria\n",
                        "\n",
                        "def get_repo_list():\n",
                        "\n",
                        "\n",
                        "    url = \"https://seart-ghs.si.usi.ch/api/r/download/csv?nameEquals=false&language=Java&commitsMin=5000&contributorsMin=20&committedMin=2023-02-28&starsMin=2000&nonBlankLinesMin=10000&page\"\n",
                        "\n",
                        "    # URL that contains the following SEART search:\n",
                        "\n",
                        "    # Language: Java\n",
                        "\n",
                        "    # Minimal Commits: 5000\n",
                        "\n",
                        "    # Minimal Contributors: 20\n",
                        "\n",
                        "    # Last commit: within 1 year\n",
                        "\n",
                        "    # Minimal Stars: 2000\n",
                        "\n",
                        "    # Minimal lines: 10000\n",
                        "\n",
                        "\n",
                        "    # GET request\n",
                        "\n",
                        "    response = requests.get(url, verify=False)\n",
                        "\n",
                        "\n",
                        "    # Check for failed request\n",
                        "\n",
                        "    if response.status_code != 200:\n",
                        "\n",
                        "        print(f\"Request failed: Status code {response.status_code}\")\n",
                        "\n",
                        "        return False\n",
                        "\n",
                        "\n",
                        "    # Write received data to data/repos.csv\n",
                        "    # This weirdness is due to the fact that seart-ghs returns a gzipped csv file\n",
                        "    file = open(\"data/repos.csv\", \"wb\")\n",
                        "    file.write(response.content)\n",
                        "    unzipped_content = pd.read_csv(\"data/repos.csv\", compression='gzip')\n",
                        "    unzipped_content.to_csv(\"data/repos.csv\", index=False)\n",
                        "\n",
                        "    return True\n",
                        "\n",
                        "\n",
                        "\n",
                        "get_repo_list()"
                  ]
            },
            {
                  "cell_type": "markdown",
                  "metadata": {},
                  "source": [
                        "# Download repos"
                  ]
            },
            {
                  "cell_type": "code",
                  "execution_count": 1,
                  "metadata": {
                        "ExecuteTime": {
                              "end_time": "2024-03-10T21:41:00.387290600Z",
                              "start_time": "2024-03-10T21:41:00.354783100Z"
                        }
                  },
                  "outputs": [
                        {
                              "name": "stdout",
                              "output_type": "stream",
                              "text": [
                                    "Repo directory already exists: mongodb_mongo-java-driver\n",
                                    "Repo directory already exists: apache_cassandra\n",
                                    "Repo directory already exists: apache_camel\n",
                                    "Repo directory already exists: apache_hive\n",
                                    "Repo directory already exists: apache_maven\n",
                                    "Finished downloading\n"
                              ]
                        }
                  ],
                  "source": [
                        "import subprocess\n",
                        "import os\n",
                        "\n",
                        "\n",
                        "# Function to download repos into data/repos folder\n",
                        "def download_repos(number_of_repos):\n",
                        "    # Open file to get list of repos\n",
                        "    repos = open(\"data/repos.csv\").read().split(\"\\n\")\n",
                        "\n",
                        "    # Loop through repos\n",
                        "    for i in range(1, number_of_repos + 1):\n",
                        "        # Get repos name, URL, and / replaced name\n",
                        "        repo_name = repos[i].split(\",\")[1].strip('\"')\n",
                        "        repo_url = \"https://github.com/\" + repo_name + \".git\"\n",
                        "        repo_dir = repo_name.replace(\"/\", \"_\")\n",
                        "\n",
                        "        # Check if repo has been cloned\n",
                        "        if os.path.exists(\"data/repos/\" + repo_dir):\n",
                        "            # Skip downloading\n",
                        "            print(\"Repo directory already exists: \" + repo_dir)\n",
                        "        else:\n",
                        "            try:\n",
                        "                # Git clone\n",
                        "                subprocess.check_call(\n",
                        "                    [\"git\", \"clone\", \"--depth=1\", repo_url, \"data/repos/\" + repo_dir],\n",
                        "                    shell=True,\n",
                        "                )\n",
                        "                print(\"Repo cloned: \" + repo_name + \" as \" + repo_dir)\n",
                        "\n",
                        "            except Exception as e:\n",
                        "                print(\"Could not clone repo: \" + str(e))\n",
                        "\n",
                        "    print(\"Finished downloading\")\n",
                        "\n",
                        "\n",
                        "# Change here to download different numbers of repos\n",
                        "number_of_repos = 5\n",
                        "\n",
                        "download_repos(number_of_repos)"
                  ]
            }
      ],
      "metadata": {
            "kernelspec": {
                  "display_name": ".venv",
                  "language": "python",
                  "name": "python3"
            },
            "language_info": {
                  "codemirror_mode": {
                        "name": "ipython",
                        "version": 3
                  },
                  "file_extension": ".py",
                  "mimetype": "text/x-python",
                  "name": "python",
                  "nbconvert_exporter": "python",
                  "pygments_lexer": "ipython3",
                  "version": "3.8.18"
            }
      },
      "nbformat": 4,
      "nbformat_minor": 2
}